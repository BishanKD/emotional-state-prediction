{
 "cells": [
  {
   "cell_type": "code",
   "execution_count": 10,
   "id": "0a27afed",
   "metadata": {},
   "outputs": [
    {
     "name": "stderr",
     "output_type": "stream",
     "text": [
      "[nltk_data] Downloading package stopwords to C:\\Users\\Bishan\n",
      "[nltk_data]     Kumar\\AppData\\Roaming\\nltk_data...\n",
      "[nltk_data]   Package stopwords is already up-to-date!\n",
      "[nltk_data] Downloading package punkt to C:\\Users\\Bishan\n",
      "[nltk_data]     Kumar\\AppData\\Roaming\\nltk_data...\n",
      "[nltk_data]   Package punkt is already up-to-date!\n"
     ]
    },
    {
     "data": {
      "text/plain": [
       "True"
      ]
     },
     "execution_count": 10,
     "metadata": {},
     "output_type": "execute_result"
    }
   ],
   "source": [
    "import pandas as pd\n",
    "import re\n",
    "import emoji\n",
    "import nltk\n",
    "from nltk.corpus import stopwords\n",
    "from nltk.tokenize import word_tokenize\n",
    "\n",
    "nltk.download('stopwords')\n",
    "nltk.download('punkt')"
   ]
  },
  {
   "cell_type": "code",
   "execution_count": 11,
   "id": "497eaa3e",
   "metadata": {},
   "outputs": [
    {
     "data": {
      "text/html": [
       "<div>\n",
       "<style scoped>\n",
       "    .dataframe tbody tr th:only-of-type {\n",
       "        vertical-align: middle;\n",
       "    }\n",
       "\n",
       "    .dataframe tbody tr th {\n",
       "        vertical-align: top;\n",
       "    }\n",
       "\n",
       "    .dataframe thead th {\n",
       "        text-align: right;\n",
       "    }\n",
       "</style>\n",
       "<table border=\"1\" class=\"dataframe\">\n",
       "  <thead>\n",
       "    <tr style=\"text-align: right;\">\n",
       "      <th></th>\n",
       "      <th>title</th>\n",
       "      <th>selftext</th>\n",
       "      <th>subreddit</th>\n",
       "      <th>created_utc</th>\n",
       "      <th>id</th>\n",
       "      <th>emotional_score</th>\n",
       "    </tr>\n",
       "  </thead>\n",
       "  <tbody>\n",
       "    <tr>\n",
       "      <th>0</th>\n",
       "      <td>Grateful my husband doesn’t pressure me for sex</td>\n",
       "      <td>I spent my entire life, from when I was 6 year...</td>\n",
       "      <td>gratitude</td>\n",
       "      <td>2025-06-17 16:37:52</td>\n",
       "      <td>1ldkah0</td>\n",
       "      <td>1.0</td>\n",
       "    </tr>\n",
       "    <tr>\n",
       "      <th>1</th>\n",
       "      <td>Grateful for getting a sleep divorce</td>\n",
       "      <td>When it comes to sleep hygiene me and my husba...</td>\n",
       "      <td>gratitude</td>\n",
       "      <td>2025-06-16 23:12:20</td>\n",
       "      <td>1lczdty</td>\n",
       "      <td>1.0</td>\n",
       "    </tr>\n",
       "    <tr>\n",
       "      <th>2</th>\n",
       "      <td>Grateful to get to do my shopping hauls for ot...</td>\n",
       "      <td>My partner died suddenly in 2023 and it tempor...</td>\n",
       "      <td>gratitude</td>\n",
       "      <td>2025-06-17 08:54:24</td>\n",
       "      <td>1ldcxg2</td>\n",
       "      <td>1.0</td>\n",
       "    </tr>\n",
       "    <tr>\n",
       "      <th>3</th>\n",
       "      <td>Grateful for my first meal after i escaped hom...</td>\n",
       "      <td>I was able to find a cheap room last weekend. ...</td>\n",
       "      <td>gratitude</td>\n",
       "      <td>2025-06-17 19:24:46</td>\n",
       "      <td>1ldnr0t</td>\n",
       "      <td>1.0</td>\n",
       "    </tr>\n",
       "    <tr>\n",
       "      <th>4</th>\n",
       "      <td>Gratitude didn’t “fix” my life — but it made i...</td>\n",
       "      <td>I used to roll my eyes at gratitude journals a...</td>\n",
       "      <td>gratitude</td>\n",
       "      <td>2025-06-17 14:11:07</td>\n",
       "      <td>1ldhzul</td>\n",
       "      <td>1.0</td>\n",
       "    </tr>\n",
       "    <tr>\n",
       "      <th>...</th>\n",
       "      <td>...</td>\n",
       "      <td>...</td>\n",
       "      <td>...</td>\n",
       "      <td>...</td>\n",
       "      <td>...</td>\n",
       "      <td>...</td>\n",
       "    </tr>\n",
       "    <tr>\n",
       "      <th>3616</th>\n",
       "      <td>I feel so silly</td>\n",
       "      <td>I cant understand what im feeling anymore i fe...</td>\n",
       "      <td>SuicideWatch</td>\n",
       "      <td>2025-06-15 23:10:22</td>\n",
       "      <td>1lc660y</td>\n",
       "      <td>0.0</td>\n",
       "    </tr>\n",
       "    <tr>\n",
       "      <th>3617</th>\n",
       "      <td>I don't want to upset my parents</td>\n",
       "      <td>I really want everything to just end, I don't ...</td>\n",
       "      <td>SuicideWatch</td>\n",
       "      <td>2025-06-16 01:50:58</td>\n",
       "      <td>1lca0e9</td>\n",
       "      <td>0.0</td>\n",
       "    </tr>\n",
       "    <tr>\n",
       "      <th>3618</th>\n",
       "      <td>I want to end it all</td>\n",
       "      <td>and start over again somewhere else. Do you th...</td>\n",
       "      <td>SuicideWatch</td>\n",
       "      <td>2025-06-15 18:37:12</td>\n",
       "      <td>1lbzwd8</td>\n",
       "      <td>0.0</td>\n",
       "    </tr>\n",
       "    <tr>\n",
       "      <th>3619</th>\n",
       "      <td>I was supposed to be dead today</td>\n",
       "      <td>I planned four months ago to end my life today...</td>\n",
       "      <td>SuicideWatch</td>\n",
       "      <td>2025-06-16 01:39:51</td>\n",
       "      <td>1lc9qxa</td>\n",
       "      <td>0.0</td>\n",
       "    </tr>\n",
       "    <tr>\n",
       "      <th>3620</th>\n",
       "      <td>what the fuck  am i supposed to do?</td>\n",
       "      <td>i guess my whole post here is that i am passiv...</td>\n",
       "      <td>SuicideWatch</td>\n",
       "      <td>2025-06-15 21:53:31</td>\n",
       "      <td>1lc4b0h</td>\n",
       "      <td>0.0</td>\n",
       "    </tr>\n",
       "  </tbody>\n",
       "</table>\n",
       "<p>3621 rows × 6 columns</p>\n",
       "</div>"
      ],
      "text/plain": [
       "                                                  title  \\\n",
       "0       Grateful my husband doesn’t pressure me for sex   \n",
       "1                  Grateful for getting a sleep divorce   \n",
       "2     Grateful to get to do my shopping hauls for ot...   \n",
       "3     Grateful for my first meal after i escaped hom...   \n",
       "4     Gratitude didn’t “fix” my life — but it made i...   \n",
       "...                                                 ...   \n",
       "3616                                    I feel so silly   \n",
       "3617                   I don't want to upset my parents   \n",
       "3618                               I want to end it all   \n",
       "3619                    I was supposed to be dead today   \n",
       "3620                what the fuck  am i supposed to do?   \n",
       "\n",
       "                                               selftext     subreddit  \\\n",
       "0     I spent my entire life, from when I was 6 year...     gratitude   \n",
       "1     When it comes to sleep hygiene me and my husba...     gratitude   \n",
       "2     My partner died suddenly in 2023 and it tempor...     gratitude   \n",
       "3     I was able to find a cheap room last weekend. ...     gratitude   \n",
       "4     I used to roll my eyes at gratitude journals a...     gratitude   \n",
       "...                                                 ...           ...   \n",
       "3616  I cant understand what im feeling anymore i fe...  SuicideWatch   \n",
       "3617  I really want everything to just end, I don't ...  SuicideWatch   \n",
       "3618  and start over again somewhere else. Do you th...  SuicideWatch   \n",
       "3619  I planned four months ago to end my life today...  SuicideWatch   \n",
       "3620  i guess my whole post here is that i am passiv...  SuicideWatch   \n",
       "\n",
       "              created_utc       id  emotional_score  \n",
       "0     2025-06-17 16:37:52  1ldkah0              1.0  \n",
       "1     2025-06-16 23:12:20  1lczdty              1.0  \n",
       "2     2025-06-17 08:54:24  1ldcxg2              1.0  \n",
       "3     2025-06-17 19:24:46  1ldnr0t              1.0  \n",
       "4     2025-06-17 14:11:07  1ldhzul              1.0  \n",
       "...                   ...      ...              ...  \n",
       "3616  2025-06-15 23:10:22  1lc660y              0.0  \n",
       "3617  2025-06-16 01:50:58  1lca0e9              0.0  \n",
       "3618  2025-06-15 18:37:12  1lbzwd8              0.0  \n",
       "3619  2025-06-16 01:39:51  1lc9qxa              0.0  \n",
       "3620  2025-06-15 21:53:31  1lc4b0h              0.0  \n",
       "\n",
       "[3621 rows x 6 columns]"
      ]
     },
     "execution_count": 11,
     "metadata": {},
     "output_type": "execute_result"
    }
   ],
   "source": [
    "df = pd.read_csv(\"../data/raw/reddit_emotions.csv\")\n",
    "df"
   ]
  },
  {
   "cell_type": "code",
   "execution_count": 12,
   "id": "5549b811",
   "metadata": {},
   "outputs": [
    {
     "data": {
      "text/plain": [
       "title              0\n",
       "selftext           0\n",
       "subreddit          0\n",
       "created_utc        0\n",
       "id                 0\n",
       "emotional_score    0\n",
       "dtype: int64"
      ]
     },
     "execution_count": 12,
     "metadata": {},
     "output_type": "execute_result"
    }
   ],
   "source": [
    "df.isna().sum()"
   ]
  },
  {
   "cell_type": "code",
   "execution_count": 13,
   "id": "11548416",
   "metadata": {},
   "outputs": [],
   "source": [
    "STOPWORDS = set(stopwords.words('english'))\n",
    "\n",
    "def clean_text(text):\n",
    "    text = str(text).lower()\n",
    "    text = re.sub(r\"http\\S+|www\\S+|https\\S+\", \"\", text)\n",
    "    text = re.sub(r\"@\\w+|#\\w+\", \"\", text)\n",
    "    text = emoji.replace_emoji(text, replace=\"\")\n",
    "    text = re.sub(r\"[^a-z\\s]\", \"\", text)\n",
    "    tokens = word_tokenize(text)\n",
    "    tokens = [word for word in tokens if ((word not in STOPWORDS) and (word != \"grateful\"))]\n",
    "    return \" \".join(tokens)"
   ]
  },
  {
   "cell_type": "code",
   "execution_count": 14,
   "id": "a6357c12",
   "metadata": {},
   "outputs": [
    {
     "data": {
      "text/plain": [
       "'I spent my entire life, from when I was 6 years old, being pressured for sex. \\n\\nI was 6 when the first person introduced me to this pressure. That lasted until I was 12 or 13. \\n\\nThen I met my ex when I was 14 and spent over 20 years with him.  He wanted it daily in some way shape or form. He always complained to people that he never got it enough, even when I’d make sure that his pipes were cleaned every single day. \\n\\nSo ive spent most of my life with sex on my mind from the second I wake up. Not in a good way. In more of a “this will make me good enough to be loved” type of way. \\n\\nI am grateful that my husband has stopped watching p0rn and abusing ED medication because it’s given me such peace. I no longer have to wake up and immediately think about sex. I can just let it happen naturally, no pressure, no stress, no feeling guilty when l didn’t satisfy him that day. It has changed my view of what intimacy really is and it’s nice. \\n\\n'"
      ]
     },
     "execution_count": 14,
     "metadata": {},
     "output_type": "execute_result"
    }
   ],
   "source": [
    "df.iloc[0]['selftext']"
   ]
  },
  {
   "cell_type": "code",
   "execution_count": 15,
   "id": "90f90ccc",
   "metadata": {},
   "outputs": [],
   "source": [
    "df[\"full_text\"] = df[\"title\"].fillna(\"\") + \" \" + df[\"selftext\"].fillna(\"\")\n",
    "df[\"clean_text\"] = df[\"full_text\"].apply(clean_text)"
   ]
  },
  {
   "cell_type": "code",
   "execution_count": 16,
   "id": "18d21c81",
   "metadata": {},
   "outputs": [
    {
     "data": {
      "text/html": [
       "<div>\n",
       "<style scoped>\n",
       "    .dataframe tbody tr th:only-of-type {\n",
       "        vertical-align: middle;\n",
       "    }\n",
       "\n",
       "    .dataframe tbody tr th {\n",
       "        vertical-align: top;\n",
       "    }\n",
       "\n",
       "    .dataframe thead th {\n",
       "        text-align: right;\n",
       "    }\n",
       "</style>\n",
       "<table border=\"1\" class=\"dataframe\">\n",
       "  <thead>\n",
       "    <tr style=\"text-align: right;\">\n",
       "      <th></th>\n",
       "      <th>clean_text</th>\n",
       "      <th>subreddit</th>\n",
       "      <th>emotional_score</th>\n",
       "    </tr>\n",
       "  </thead>\n",
       "  <tbody>\n",
       "    <tr>\n",
       "      <th>0</th>\n",
       "      <td>husband doesnt pressure sex spent entire life ...</td>\n",
       "      <td>gratitude</td>\n",
       "      <td>1.0</td>\n",
       "    </tr>\n",
       "    <tr>\n",
       "      <th>1</th>\n",
       "      <td>getting sleep divorce comes sleep hygiene husb...</td>\n",
       "      <td>gratitude</td>\n",
       "      <td>1.0</td>\n",
       "    </tr>\n",
       "    <tr>\n",
       "      <th>2</th>\n",
       "      <td>get shopping hauls others like used partner di...</td>\n",
       "      <td>gratitude</td>\n",
       "      <td>1.0</td>\n",
       "    </tr>\n",
       "    <tr>\n",
       "      <th>3</th>\n",
       "      <td>first meal escaped homelessness able find chea...</td>\n",
       "      <td>gratitude</td>\n",
       "      <td>1.0</td>\n",
       "    </tr>\n",
       "    <tr>\n",
       "      <th>4</th>\n",
       "      <td>gratitude didnt fix life made quieter inside u...</td>\n",
       "      <td>gratitude</td>\n",
       "      <td>1.0</td>\n",
       "    </tr>\n",
       "    <tr>\n",
       "      <th>...</th>\n",
       "      <td>...</td>\n",
       "      <td>...</td>\n",
       "      <td>...</td>\n",
       "    </tr>\n",
       "    <tr>\n",
       "      <th>3616</th>\n",
       "      <td>feel silly cant understand im feeling anymore ...</td>\n",
       "      <td>SuicideWatch</td>\n",
       "      <td>0.0</td>\n",
       "    </tr>\n",
       "    <tr>\n",
       "      <th>3617</th>\n",
       "      <td>dont want upset parents really want everything...</td>\n",
       "      <td>SuicideWatch</td>\n",
       "      <td>0.0</td>\n",
       "    </tr>\n",
       "    <tr>\n",
       "      <th>3618</th>\n",
       "      <td>want end start somewhere else think thats happ...</td>\n",
       "      <td>SuicideWatch</td>\n",
       "      <td>0.0</td>\n",
       "    </tr>\n",
       "    <tr>\n",
       "      <th>3619</th>\n",
       "      <td>supposed dead today planned four months ago en...</td>\n",
       "      <td>SuicideWatch</td>\n",
       "      <td>0.0</td>\n",
       "    </tr>\n",
       "    <tr>\n",
       "      <th>3620</th>\n",
       "      <td>fuck supposed guess whole post passively suici...</td>\n",
       "      <td>SuicideWatch</td>\n",
       "      <td>0.0</td>\n",
       "    </tr>\n",
       "  </tbody>\n",
       "</table>\n",
       "<p>3621 rows × 3 columns</p>\n",
       "</div>"
      ],
      "text/plain": [
       "                                             clean_text     subreddit  \\\n",
       "0     husband doesnt pressure sex spent entire life ...     gratitude   \n",
       "1     getting sleep divorce comes sleep hygiene husb...     gratitude   \n",
       "2     get shopping hauls others like used partner di...     gratitude   \n",
       "3     first meal escaped homelessness able find chea...     gratitude   \n",
       "4     gratitude didnt fix life made quieter inside u...     gratitude   \n",
       "...                                                 ...           ...   \n",
       "3616  feel silly cant understand im feeling anymore ...  SuicideWatch   \n",
       "3617  dont want upset parents really want everything...  SuicideWatch   \n",
       "3618  want end start somewhere else think thats happ...  SuicideWatch   \n",
       "3619  supposed dead today planned four months ago en...  SuicideWatch   \n",
       "3620  fuck supposed guess whole post passively suici...  SuicideWatch   \n",
       "\n",
       "      emotional_score  \n",
       "0                 1.0  \n",
       "1                 1.0  \n",
       "2                 1.0  \n",
       "3                 1.0  \n",
       "4                 1.0  \n",
       "...               ...  \n",
       "3616              0.0  \n",
       "3617              0.0  \n",
       "3618              0.0  \n",
       "3619              0.0  \n",
       "3620              0.0  \n",
       "\n",
       "[3621 rows x 3 columns]"
      ]
     },
     "execution_count": 16,
     "metadata": {},
     "output_type": "execute_result"
    }
   ],
   "source": [
    "df_clean = df[[\"clean_text\", \"subreddit\", \"emotional_score\"]]\n",
    "df_clean"
   ]
  },
  {
   "cell_type": "code",
   "execution_count": 17,
   "id": "78d42e5b",
   "metadata": {},
   "outputs": [
    {
     "data": {
      "text/plain": [
       "subreddit\n",
       "TodayIAmHappy      498\n",
       "BenignExistence    489\n",
       "SuicideWatch       456\n",
       "lonely             372\n",
       "happy              363\n",
       "gratitude          323\n",
       "vent               308\n",
       "Emotions           304\n",
       "offmychest         263\n",
       "Anxiety            245\n",
       "Name: count, dtype: int64"
      ]
     },
     "execution_count": 17,
     "metadata": {},
     "output_type": "execute_result"
    }
   ],
   "source": [
    "df[\"subreddit\"].value_counts()"
   ]
  },
  {
   "cell_type": "code",
   "execution_count": 18,
   "id": "f93a0f31",
   "metadata": {},
   "outputs": [],
   "source": [
    "df_clean.to_csv(\"../data/processed/reddit_emotions_cleaned.csv\", index=False)"
   ]
  }
 ],
 "metadata": {
  "kernelspec": {
   "display_name": "Python (env)",
   "language": "python",
   "name": "env"
  },
  "language_info": {
   "codemirror_mode": {
    "name": "ipython",
    "version": 3
   },
   "file_extension": ".py",
   "mimetype": "text/x-python",
   "name": "python",
   "nbconvert_exporter": "python",
   "pygments_lexer": "ipython3",
   "version": "3.13.5"
  }
 },
 "nbformat": 4,
 "nbformat_minor": 5
}
