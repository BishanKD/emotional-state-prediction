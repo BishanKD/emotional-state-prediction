{
 "cells": [
  {
   "cell_type": "code",
   "execution_count": 1,
   "id": "0a27afed",
   "metadata": {},
   "outputs": [
    {
     "name": "stderr",
     "output_type": "stream",
     "text": [
      "[nltk_data] Downloading package stopwords to C:\\Users\\Bishan\n",
      "[nltk_data]     Kumar\\AppData\\Roaming\\nltk_data...\n",
      "[nltk_data]   Package stopwords is already up-to-date!\n",
      "[nltk_data] Downloading package punkt to C:\\Users\\Bishan\n",
      "[nltk_data]     Kumar\\AppData\\Roaming\\nltk_data...\n",
      "[nltk_data]   Package punkt is already up-to-date!\n"
     ]
    },
    {
     "data": {
      "text/plain": [
       "True"
      ]
     },
     "execution_count": 1,
     "metadata": {},
     "output_type": "execute_result"
    }
   ],
   "source": [
    "import pandas as pd\n",
    "import re\n",
    "import emoji\n",
    "import nltk\n",
    "from nltk.corpus import stopwords\n",
    "from nltk.tokenize import word_tokenize\n",
    "\n",
    "nltk.download('stopwords')\n",
    "nltk.download('punkt')"
   ]
  },
  {
   "cell_type": "code",
   "execution_count": 2,
   "id": "497eaa3e",
   "metadata": {},
   "outputs": [
    {
     "data": {
      "text/html": [
       "<div>\n",
       "<style scoped>\n",
       "    .dataframe tbody tr th:only-of-type {\n",
       "        vertical-align: middle;\n",
       "    }\n",
       "\n",
       "    .dataframe tbody tr th {\n",
       "        vertical-align: top;\n",
       "    }\n",
       "\n",
       "    .dataframe thead th {\n",
       "        text-align: right;\n",
       "    }\n",
       "</style>\n",
       "<table border=\"1\" class=\"dataframe\">\n",
       "  <thead>\n",
       "    <tr style=\"text-align: right;\">\n",
       "      <th></th>\n",
       "      <th>title</th>\n",
       "      <th>selftext</th>\n",
       "      <th>subreddit</th>\n",
       "      <th>created_utc</th>\n",
       "      <th>id</th>\n",
       "      <th>emotional_score</th>\n",
       "    </tr>\n",
       "  </thead>\n",
       "  <tbody>\n",
       "    <tr>\n",
       "      <th>0</th>\n",
       "      <td>He’s gone… but I walked the stage in his old w...</td>\n",
       "      <td>Last week, I graduated college, the first in m...</td>\n",
       "      <td>gratitude</td>\n",
       "      <td>2025-07-17 18:31:20</td>\n",
       "      <td>1m26xq1</td>\n",
       "      <td>1.0</td>\n",
       "    </tr>\n",
       "    <tr>\n",
       "      <th>1</th>\n",
       "      <td>I'm grateful that ChatGPT presents information...</td>\n",
       "      <td>There's a venue I want to visit today.  All I ...</td>\n",
       "      <td>gratitude</td>\n",
       "      <td>2025-07-17 19:24:54</td>\n",
       "      <td>1m286ia</td>\n",
       "      <td>1.0</td>\n",
       "    </tr>\n",
       "    <tr>\n",
       "      <th>2</th>\n",
       "      <td>Grateful for a cup of nice orange juice.</td>\n",
       "      <td>I don't drink alcohol. So when I'm feeling blu...</td>\n",
       "      <td>gratitude</td>\n",
       "      <td>2025-07-17 20:05:28</td>\n",
       "      <td>1m2971s</td>\n",
       "      <td>1.0</td>\n",
       "    </tr>\n",
       "    <tr>\n",
       "      <th>3</th>\n",
       "      <td>I am grateful for a deep breath that instantly...</td>\n",
       "      <td>Gratitude Practice Day 61</td>\n",
       "      <td>gratitude</td>\n",
       "      <td>2025-07-17 15:30:42</td>\n",
       "      <td>1m23j0l</td>\n",
       "      <td>1.0</td>\n",
       "    </tr>\n",
       "    <tr>\n",
       "      <th>4</th>\n",
       "      <td>How to be grateful when your feeling behind in...</td>\n",
       "      <td>Hey everyone! I’ve been trying to be grateful ...</td>\n",
       "      <td>gratitude</td>\n",
       "      <td>2025-07-17 09:46:46</td>\n",
       "      <td>1m1xz7r</td>\n",
       "      <td>1.0</td>\n",
       "    </tr>\n",
       "    <tr>\n",
       "      <th>...</th>\n",
       "      <td>...</td>\n",
       "      <td>...</td>\n",
       "      <td>...</td>\n",
       "      <td>...</td>\n",
       "      <td>...</td>\n",
       "      <td>...</td>\n",
       "    </tr>\n",
       "    <tr>\n",
       "      <th>6128</th>\n",
       "      <td>Is this wrong of me?</td>\n",
       "      <td>This is going to sound wrong but after seeing ...</td>\n",
       "      <td>SuicideWatch</td>\n",
       "      <td>2025-07-14 22:33:05</td>\n",
       "      <td>1lzrzj5</td>\n",
       "      <td>0.0</td>\n",
       "    </tr>\n",
       "    <tr>\n",
       "      <th>6129</th>\n",
       "      <td>Tomorrow</td>\n",
       "      <td>Tomorrow, I will drop my kids off, go to work,...</td>\n",
       "      <td>SuicideWatch</td>\n",
       "      <td>2025-07-14 08:34:56</td>\n",
       "      <td>1lzbkr8</td>\n",
       "      <td>0.0</td>\n",
       "    </tr>\n",
       "    <tr>\n",
       "      <th>6130</th>\n",
       "      <td>Everything is just terrible..</td>\n",
       "      <td>My health is not doing great, debt sky high, n...</td>\n",
       "      <td>SuicideWatch</td>\n",
       "      <td>2025-07-14 14:54:53</td>\n",
       "      <td>1lzhuo3</td>\n",
       "      <td>0.0</td>\n",
       "    </tr>\n",
       "    <tr>\n",
       "      <th>6131</th>\n",
       "      <td>I want to die because of my intrusive thoughts</td>\n",
       "      <td>It's hard for me to even write this out becaus...</td>\n",
       "      <td>SuicideWatch</td>\n",
       "      <td>2025-07-14 12:19:42</td>\n",
       "      <td>1lzfi1o</td>\n",
       "      <td>0.0</td>\n",
       "    </tr>\n",
       "    <tr>\n",
       "      <th>6132</th>\n",
       "      <td>Drained.</td>\n",
       "      <td>Parents are draining me so much even my games ...</td>\n",
       "      <td>SuicideWatch</td>\n",
       "      <td>2025-07-14 15:51:26</td>\n",
       "      <td>1lziqgr</td>\n",
       "      <td>0.0</td>\n",
       "    </tr>\n",
       "  </tbody>\n",
       "</table>\n",
       "<p>6133 rows × 6 columns</p>\n",
       "</div>"
      ],
      "text/plain": [
       "                                                  title  \\\n",
       "0     He’s gone… but I walked the stage in his old w...   \n",
       "1     I'm grateful that ChatGPT presents information...   \n",
       "2              Grateful for a cup of nice orange juice.   \n",
       "3     I am grateful for a deep breath that instantly...   \n",
       "4     How to be grateful when your feeling behind in...   \n",
       "...                                                 ...   \n",
       "6128                               Is this wrong of me?   \n",
       "6129                                           Tomorrow   \n",
       "6130                      Everything is just terrible..   \n",
       "6131     I want to die because of my intrusive thoughts   \n",
       "6132                                           Drained.   \n",
       "\n",
       "                                               selftext     subreddit  \\\n",
       "0     Last week, I graduated college, the first in m...     gratitude   \n",
       "1     There's a venue I want to visit today.  All I ...     gratitude   \n",
       "2     I don't drink alcohol. So when I'm feeling blu...     gratitude   \n",
       "3                             Gratitude Practice Day 61     gratitude   \n",
       "4     Hey everyone! I’ve been trying to be grateful ...     gratitude   \n",
       "...                                                 ...           ...   \n",
       "6128  This is going to sound wrong but after seeing ...  SuicideWatch   \n",
       "6129  Tomorrow, I will drop my kids off, go to work,...  SuicideWatch   \n",
       "6130  My health is not doing great, debt sky high, n...  SuicideWatch   \n",
       "6131  It's hard for me to even write this out becaus...  SuicideWatch   \n",
       "6132  Parents are draining me so much even my games ...  SuicideWatch   \n",
       "\n",
       "              created_utc       id  emotional_score  \n",
       "0     2025-07-17 18:31:20  1m26xq1              1.0  \n",
       "1     2025-07-17 19:24:54  1m286ia              1.0  \n",
       "2     2025-07-17 20:05:28  1m2971s              1.0  \n",
       "3     2025-07-17 15:30:42  1m23j0l              1.0  \n",
       "4     2025-07-17 09:46:46  1m1xz7r              1.0  \n",
       "...                   ...      ...              ...  \n",
       "6128  2025-07-14 22:33:05  1lzrzj5              0.0  \n",
       "6129  2025-07-14 08:34:56  1lzbkr8              0.0  \n",
       "6130  2025-07-14 14:54:53  1lzhuo3              0.0  \n",
       "6131  2025-07-14 12:19:42  1lzfi1o              0.0  \n",
       "6132  2025-07-14 15:51:26  1lziqgr              0.0  \n",
       "\n",
       "[6133 rows x 6 columns]"
      ]
     },
     "execution_count": 2,
     "metadata": {},
     "output_type": "execute_result"
    }
   ],
   "source": [
    "df = pd.read_csv(\"../data/raw/reddit_emotions.csv\")\n",
    "df"
   ]
  },
  {
   "cell_type": "code",
   "execution_count": 3,
   "id": "5549b811",
   "metadata": {},
   "outputs": [
    {
     "data": {
      "text/plain": [
       "title              0\n",
       "selftext           0\n",
       "subreddit          0\n",
       "created_utc        0\n",
       "id                 0\n",
       "emotional_score    0\n",
       "dtype: int64"
      ]
     },
     "execution_count": 3,
     "metadata": {},
     "output_type": "execute_result"
    }
   ],
   "source": [
    "df.isna().sum()"
   ]
  },
  {
   "cell_type": "code",
   "execution_count": 4,
   "id": "11548416",
   "metadata": {},
   "outputs": [],
   "source": [
    "STOPWORDS = set(stopwords.words('english'))\n",
    "\n",
    "def clean_text(text):\n",
    "    text = str(text).lower()\n",
    "    text = re.sub(r\"http\\S+|www\\S+|https\\S+\", \"\", text)\n",
    "    text = re.sub(r\"@\\w+|#\\w+\", \"\", text)\n",
    "    text = emoji.replace_emoji(text, replace=\"\")\n",
    "    text = re.sub(r\"[^a-z\\s]\", \"\", text)\n",
    "    tokens = word_tokenize(text)\n",
    "    tokens = [word for word in tokens if ((word not in STOPWORDS) and (word != \"grateful\"))]\n",
    "    return \" \".join(tokens)"
   ]
  },
  {
   "cell_type": "code",
   "execution_count": 5,
   "id": "a6357c12",
   "metadata": {},
   "outputs": [
    {
     "data": {
      "text/plain": [
       "'Last week, I graduated college, the first in my entire family to do it.\\n\\nBut my dad wasn’t there to see it. He passed away during my freshman year. No warning. No goodbye.\\n\\nMy father was a working-class man through and through. He wore the same pair of steel-toe boots to work for over a decade, pulled double shifts, skipped birthdays, and never once complained. All so that *I* could have a different kind of future.\\n\\n“Get that degree, son,” he used to tell me. “Make it count.”\\n\\nThe night before graduation, I found those old boots buried in my closet. Scuffed. Worn through. Still faintly smelling like oil and garage dust. I held them for a while, and cried. Then I made a choice.\\n\\nI wore them under my cap and gown.\\n\\nSize 11s on my size 9 feet. They didn’t match anything. They didn’t need to.\\n\\nWalking across that stage, I felt like every step carried not just my effort, but his. His sacrifices. His love. His belief in me, even when I didn’t see it in myself.\\n\\nWhen I hugged my mom after the ceremony, she saw the boots peeking out and just… melted. We both did. No words. Just tears and so much emotion.\\n\\nI’m overwhelmed with gratitude. For the love he gave me. For the example he set. For the chance to live the dream he never had the chance to chase.\\n\\nI hope he knows. I hope he felt it.\\n\\nThank you, Dad. I walked because of you. And with you.'"
      ]
     },
     "execution_count": 5,
     "metadata": {},
     "output_type": "execute_result"
    }
   ],
   "source": [
    "df.iloc[0]['selftext']"
   ]
  },
  {
   "cell_type": "code",
   "execution_count": 6,
   "id": "90f90ccc",
   "metadata": {},
   "outputs": [],
   "source": [
    "df[\"full_text\"] = df[\"title\"].fillna(\"\") + \" \" + df[\"selftext\"].fillna(\"\")\n",
    "df[\"clean_text\"] = df[\"full_text\"].apply(clean_text)"
   ]
  },
  {
   "cell_type": "code",
   "execution_count": 7,
   "id": "18d21c81",
   "metadata": {},
   "outputs": [
    {
     "data": {
      "text/html": [
       "<div>\n",
       "<style scoped>\n",
       "    .dataframe tbody tr th:only-of-type {\n",
       "        vertical-align: middle;\n",
       "    }\n",
       "\n",
       "    .dataframe tbody tr th {\n",
       "        vertical-align: top;\n",
       "    }\n",
       "\n",
       "    .dataframe thead th {\n",
       "        text-align: right;\n",
       "    }\n",
       "</style>\n",
       "<table border=\"1\" class=\"dataframe\">\n",
       "  <thead>\n",
       "    <tr style=\"text-align: right;\">\n",
       "      <th></th>\n",
       "      <th>clean_text</th>\n",
       "      <th>subreddit</th>\n",
       "      <th>emotional_score</th>\n",
       "    </tr>\n",
       "  </thead>\n",
       "  <tbody>\n",
       "    <tr>\n",
       "      <th>0</th>\n",
       "      <td>hes gone walked stage old work boots im last w...</td>\n",
       "      <td>gratitude</td>\n",
       "      <td>1.0</td>\n",
       "    </tr>\n",
       "    <tr>\n",
       "      <th>1</th>\n",
       "      <td>im chatgpt presents information peoples websit...</td>\n",
       "      <td>gratitude</td>\n",
       "      <td>1.0</td>\n",
       "    </tr>\n",
       "    <tr>\n",
       "      <th>2</th>\n",
       "      <td>cup nice orange juice dont drink alcohol im fe...</td>\n",
       "      <td>gratitude</td>\n",
       "      <td>1.0</td>\n",
       "    </tr>\n",
       "    <tr>\n",
       "      <th>3</th>\n",
       "      <td>deep breath instantly calms gratitude practice...</td>\n",
       "      <td>gratitude</td>\n",
       "      <td>1.0</td>\n",
       "    </tr>\n",
       "    <tr>\n",
       "      <th>4</th>\n",
       "      <td>feeling behind life hey everyone ive trying al...</td>\n",
       "      <td>gratitude</td>\n",
       "      <td>1.0</td>\n",
       "    </tr>\n",
       "    <tr>\n",
       "      <th>...</th>\n",
       "      <td>...</td>\n",
       "      <td>...</td>\n",
       "      <td>...</td>\n",
       "    </tr>\n",
       "    <tr>\n",
       "      <th>6128</th>\n",
       "      <td>wrong going sound wrong seeing suicide videos ...</td>\n",
       "      <td>SuicideWatch</td>\n",
       "      <td>0.0</td>\n",
       "    </tr>\n",
       "    <tr>\n",
       "      <th>6129</th>\n",
       "      <td>tomorrow tomorrow drop kids go work get come h...</td>\n",
       "      <td>SuicideWatch</td>\n",
       "      <td>0.0</td>\n",
       "    </tr>\n",
       "    <tr>\n",
       "      <th>6130</th>\n",
       "      <td>everything terrible health great debt sky high...</td>\n",
       "      <td>SuicideWatch</td>\n",
       "      <td>0.0</td>\n",
       "    </tr>\n",
       "    <tr>\n",
       "      <th>6131</th>\n",
       "      <td>want die intrusive thoughts hard even write im...</td>\n",
       "      <td>SuicideWatch</td>\n",
       "      <td>0.0</td>\n",
       "    </tr>\n",
       "    <tr>\n",
       "      <th>6132</th>\n",
       "      <td>drained parents draining much even games dont ...</td>\n",
       "      <td>SuicideWatch</td>\n",
       "      <td>0.0</td>\n",
       "    </tr>\n",
       "  </tbody>\n",
       "</table>\n",
       "<p>6133 rows × 3 columns</p>\n",
       "</div>"
      ],
      "text/plain": [
       "                                             clean_text     subreddit  \\\n",
       "0     hes gone walked stage old work boots im last w...     gratitude   \n",
       "1     im chatgpt presents information peoples websit...     gratitude   \n",
       "2     cup nice orange juice dont drink alcohol im fe...     gratitude   \n",
       "3     deep breath instantly calms gratitude practice...     gratitude   \n",
       "4     feeling behind life hey everyone ive trying al...     gratitude   \n",
       "...                                                 ...           ...   \n",
       "6128  wrong going sound wrong seeing suicide videos ...  SuicideWatch   \n",
       "6129  tomorrow tomorrow drop kids go work get come h...  SuicideWatch   \n",
       "6130  everything terrible health great debt sky high...  SuicideWatch   \n",
       "6131  want die intrusive thoughts hard even write im...  SuicideWatch   \n",
       "6132  drained parents draining much even games dont ...  SuicideWatch   \n",
       "\n",
       "      emotional_score  \n",
       "0                 1.0  \n",
       "1                 1.0  \n",
       "2                 1.0  \n",
       "3                 1.0  \n",
       "4                 1.0  \n",
       "...               ...  \n",
       "6128              0.0  \n",
       "6129              0.0  \n",
       "6130              0.0  \n",
       "6131              0.0  \n",
       "6132              0.0  \n",
       "\n",
       "[6133 rows x 3 columns]"
      ]
     },
     "execution_count": 7,
     "metadata": {},
     "output_type": "execute_result"
    }
   ],
   "source": [
    "df_clean = df[[\"clean_text\", \"subreddit\", \"emotional_score\"]]\n",
    "df_clean"
   ]
  },
  {
   "cell_type": "code",
   "execution_count": 8,
   "id": "78d42e5b",
   "metadata": {},
   "outputs": [
    {
     "data": {
      "text/plain": [
       "subreddit\n",
       "BenignExistence    969\n",
       "TodayIAmHappy      806\n",
       "lonely             753\n",
       "gratitude          674\n",
       "SuicideWatch       649\n",
       "Emotions           516\n",
       "happy              480\n",
       "Anxiety            459\n",
       "vent               428\n",
       "offmychest         399\n",
       "Name: count, dtype: int64"
      ]
     },
     "execution_count": 8,
     "metadata": {},
     "output_type": "execute_result"
    }
   ],
   "source": [
    "df[\"subreddit\"].value_counts()"
   ]
  },
  {
   "cell_type": "code",
   "execution_count": 9,
   "id": "f93a0f31",
   "metadata": {},
   "outputs": [],
   "source": [
    "df_clean.to_csv(\"../data/processed/reddit_emotions_cleaned.csv\", index=False)"
   ]
  },
  {
   "cell_type": "code",
   "execution_count": null,
   "id": "116126fa",
   "metadata": {},
   "outputs": [],
   "source": []
  }
 ],
 "metadata": {
  "kernelspec": {
   "display_name": "Python (env)",
   "language": "python",
   "name": "env"
  },
  "language_info": {
   "codemirror_mode": {
    "name": "ipython",
    "version": 3
   },
   "file_extension": ".py",
   "mimetype": "text/x-python",
   "name": "python",
   "nbconvert_exporter": "python",
   "pygments_lexer": "ipython3",
   "version": "3.13.5"
  }
 },
 "nbformat": 4,
 "nbformat_minor": 5
}
